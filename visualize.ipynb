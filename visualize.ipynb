{
 "cells": [
  {
   "cell_type": "code",
   "execution_count": 1,
   "id": "812065c6",
   "metadata": {
    "scrolled": true
   },
   "outputs": [
    {
     "name": "stdout",
     "output_type": "stream",
     "text": [
      "Requirement already satisfied: vnstock in c:\\users\\nguye\\anaconda3\\lib\\site-packages (0.1.4)\n"
     ]
    }
   ],
   "source": [
    "!pip install vnstock"
   ]
  },
  {
   "cell_type": "code",
   "execution_count": 2,
   "id": "43d0974c",
   "metadata": {},
   "outputs": [],
   "source": [
    "import pandas as pd\n",
    "from vnstock import listing_companies"
   ]
  },
  {
   "cell_type": "code",
   "execution_count": 3,
   "id": "6681b72b",
   "metadata": {},
   "outputs": [],
   "source": [
    "raw_data = 'D:\\Project\\Vnstock-Data-GCP\\data.csv'"
   ]
  },
  {
   "cell_type": "code",
   "execution_count": 4,
   "id": "f9938bc6",
   "metadata": {},
   "outputs": [
    {
     "data": {
      "text/html": [
       "<div>\n",
       "<style scoped>\n",
       "    .dataframe tbody tr th:only-of-type {\n",
       "        vertical-align: middle;\n",
       "    }\n",
       "\n",
       "    .dataframe tbody tr th {\n",
       "        vertical-align: top;\n",
       "    }\n",
       "\n",
       "    .dataframe thead th {\n",
       "        text-align: right;\n",
       "    }\n",
       "</style>\n",
       "<table border=\"1\" class=\"dataframe\">\n",
       "  <thead>\n",
       "    <tr style=\"text-align: right;\">\n",
       "      <th></th>\n",
       "      <th>Open</th>\n",
       "      <th>High</th>\n",
       "      <th>Low</th>\n",
       "      <th>Close</th>\n",
       "      <th>Volume</th>\n",
       "      <th>TradingDate</th>\n",
       "      <th>Ticker</th>\n",
       "    </tr>\n",
       "  </thead>\n",
       "  <tbody>\n",
       "    <tr>\n",
       "      <th>0</th>\n",
       "      <td>18000.0</td>\n",
       "      <td>20300.0</td>\n",
       "      <td>18000.0</td>\n",
       "      <td>20000.0</td>\n",
       "      <td>12100.0</td>\n",
       "      <td>2022-10-07</td>\n",
       "      <td>VVS</td>\n",
       "    </tr>\n",
       "    <tr>\n",
       "      <th>1</th>\n",
       "      <td>22000.0</td>\n",
       "      <td>23000.0</td>\n",
       "      <td>22000.0</td>\n",
       "      <td>22700.0</td>\n",
       "      <td>11000.0</td>\n",
       "      <td>2022-10-10</td>\n",
       "      <td>VVS</td>\n",
       "    </tr>\n",
       "    <tr>\n",
       "      <th>2</th>\n",
       "      <td>25500.0</td>\n",
       "      <td>25800.0</td>\n",
       "      <td>22000.0</td>\n",
       "      <td>23000.0</td>\n",
       "      <td>7900.0</td>\n",
       "      <td>2022-10-11</td>\n",
       "      <td>VVS</td>\n",
       "    </tr>\n",
       "    <tr>\n",
       "      <th>3</th>\n",
       "      <td>22000.0</td>\n",
       "      <td>23000.0</td>\n",
       "      <td>22000.0</td>\n",
       "      <td>22800.0</td>\n",
       "      <td>3400.0</td>\n",
       "      <td>2022-10-12</td>\n",
       "      <td>VVS</td>\n",
       "    </tr>\n",
       "    <tr>\n",
       "      <th>4</th>\n",
       "      <td>23000.0</td>\n",
       "      <td>23000.0</td>\n",
       "      <td>20000.0</td>\n",
       "      <td>20600.0</td>\n",
       "      <td>1900.0</td>\n",
       "      <td>2022-10-13</td>\n",
       "      <td>VVS</td>\n",
       "    </tr>\n",
       "    <tr>\n",
       "      <th>...</th>\n",
       "      <td>...</td>\n",
       "      <td>...</td>\n",
       "      <td>...</td>\n",
       "      <td>...</td>\n",
       "      <td>...</td>\n",
       "      <td>...</td>\n",
       "      <td>...</td>\n",
       "    </tr>\n",
       "    <tr>\n",
       "      <th>3743720</th>\n",
       "      <td>68000.0</td>\n",
       "      <td>68000.0</td>\n",
       "      <td>68000.0</td>\n",
       "      <td>68000.0</td>\n",
       "      <td>0.0</td>\n",
       "      <td>2023-03-20</td>\n",
       "      <td>YTC</td>\n",
       "    </tr>\n",
       "    <tr>\n",
       "      <th>3743721</th>\n",
       "      <td>68000.0</td>\n",
       "      <td>68000.0</td>\n",
       "      <td>68000.0</td>\n",
       "      <td>68000.0</td>\n",
       "      <td>0.0</td>\n",
       "      <td>2023-03-21</td>\n",
       "      <td>YTC</td>\n",
       "    </tr>\n",
       "    <tr>\n",
       "      <th>3743722</th>\n",
       "      <td>68000.0</td>\n",
       "      <td>68000.0</td>\n",
       "      <td>68000.0</td>\n",
       "      <td>68000.0</td>\n",
       "      <td>5.0</td>\n",
       "      <td>2023-03-22</td>\n",
       "      <td>YTC</td>\n",
       "    </tr>\n",
       "    <tr>\n",
       "      <th>3743723</th>\n",
       "      <td>60000.0</td>\n",
       "      <td>60000.0</td>\n",
       "      <td>60000.0</td>\n",
       "      <td>60000.0</td>\n",
       "      <td>5000.0</td>\n",
       "      <td>2023-03-23</td>\n",
       "      <td>YTC</td>\n",
       "    </tr>\n",
       "    <tr>\n",
       "      <th>3743724</th>\n",
       "      <td>60000.0</td>\n",
       "      <td>60000.0</td>\n",
       "      <td>60000.0</td>\n",
       "      <td>60000.0</td>\n",
       "      <td>0.0</td>\n",
       "      <td>2023-03-24</td>\n",
       "      <td>YTC</td>\n",
       "    </tr>\n",
       "  </tbody>\n",
       "</table>\n",
       "<p>3743725 rows × 7 columns</p>\n",
       "</div>"
      ],
      "text/plain": [
       "            Open     High      Low    Close   Volume TradingDate Ticker\n",
       "0        18000.0  20300.0  18000.0  20000.0  12100.0  2022-10-07    VVS\n",
       "1        22000.0  23000.0  22000.0  22700.0  11000.0  2022-10-10    VVS\n",
       "2        25500.0  25800.0  22000.0  23000.0   7900.0  2022-10-11    VVS\n",
       "3        22000.0  23000.0  22000.0  22800.0   3400.0  2022-10-12    VVS\n",
       "4        23000.0  23000.0  20000.0  20600.0   1900.0  2022-10-13    VVS\n",
       "...          ...      ...      ...      ...      ...         ...    ...\n",
       "3743720  68000.0  68000.0  68000.0  68000.0      0.0  2023-03-20    YTC\n",
       "3743721  68000.0  68000.0  68000.0  68000.0      0.0  2023-03-21    YTC\n",
       "3743722  68000.0  68000.0  68000.0  68000.0      5.0  2023-03-22    YTC\n",
       "3743723  60000.0  60000.0  60000.0  60000.0   5000.0  2023-03-23    YTC\n",
       "3743724  60000.0  60000.0  60000.0  60000.0      0.0  2023-03-24    YTC\n",
       "\n",
       "[3743725 rows x 7 columns]"
      ]
     },
     "execution_count": 4,
     "metadata": {},
     "output_type": "execute_result"
    }
   ],
   "source": [
    "df = pd.read_csv(raw_data, names=['Open','High','Low','Close','Volume','TradingDate','Ticker'])\n",
    "df"
   ]
  },
  {
   "cell_type": "code",
   "execution_count": 5,
   "id": "84964813",
   "metadata": {},
   "outputs": [
    {
     "name": "stdout",
     "output_type": "stream",
     "text": [
      "<class 'pandas.core.frame.DataFrame'>\n",
      "RangeIndex: 3743725 entries, 0 to 3743724\n",
      "Data columns (total 7 columns):\n",
      " #   Column       Dtype  \n",
      "---  ------       -----  \n",
      " 0   Open         float64\n",
      " 1   High         float64\n",
      " 2   Low          float64\n",
      " 3   Close        float64\n",
      " 4   Volume       float64\n",
      " 5   TradingDate  object \n",
      " 6   Ticker       object \n",
      "dtypes: float64(5), object(2)\n",
      "memory usage: 199.9+ MB\n"
     ]
    }
   ],
   "source": [
    "df.info()"
   ]
  },
  {
   "cell_type": "code",
   "execution_count": 6,
   "id": "cb5481de",
   "metadata": {
    "scrolled": false
   },
   "outputs": [
    {
     "data": {
      "text/plain": [
       "REE    5428\n",
       "TMS    5428\n",
       "SAM    5428\n",
       "LAF    5422\n",
       "HAP    5417\n",
       "       ... \n",
       "VNZ      52\n",
       "CK8      51\n",
       "VMT      51\n",
       "GPC      51\n",
       "DLM      51\n",
       "Name: Ticker, Length: 1625, dtype: int64"
      ]
     },
     "execution_count": 6,
     "metadata": {},
     "output_type": "execute_result"
    }
   ],
   "source": [
    "df.Ticker.value_counts()"
   ]
  },
  {
   "cell_type": "markdown",
   "id": "909a81d4",
   "metadata": {},
   "source": [
    "## How many ticker in VNStock?"
   ]
  },
  {
   "cell_type": "code",
   "execution_count": 7,
   "id": "5538626b",
   "metadata": {},
   "outputs": [
    {
     "data": {
      "text/plain": [
       "1625"
      ]
     },
     "execution_count": 7,
     "metadata": {},
     "output_type": "execute_result"
    }
   ],
   "source": [
    "len(listing_companies()['ticker'].tolist())"
   ]
  },
  {
   "cell_type": "markdown",
   "id": "e9fad850",
   "metadata": {},
   "source": [
    "## Check null"
   ]
  },
  {
   "cell_type": "code",
   "execution_count": 8,
   "id": "d833d962",
   "metadata": {
    "scrolled": true
   },
   "outputs": [
    {
     "data": {
      "text/plain": [
       "Open            102\n",
       "High             94\n",
       "Low              94\n",
       "Close           122\n",
       "Volume         1555\n",
       "TradingDate       0\n",
       "Ticker            0\n",
       "dtype: int64"
      ]
     },
     "execution_count": 8,
     "metadata": {},
     "output_type": "execute_result"
    }
   ],
   "source": [
    "df.isna().sum()"
   ]
  },
  {
   "cell_type": "markdown",
   "id": "694dd883",
   "metadata": {},
   "source": [
    "## Option fill NaN value"
   ]
  },
  {
   "cell_type": "code",
   "execution_count": null,
   "id": "713315d1",
   "metadata": {},
   "outputs": [],
   "source": [
    "df = df.fillna(0)"
   ]
  },
  {
   "cell_type": "code",
   "execution_count": null,
   "id": "34390dae",
   "metadata": {},
   "outputs": [],
   "source": [
    "df.isna().sum()"
   ]
  },
  {
   "cell_type": "code",
   "execution_count": null,
   "id": "d577eb49",
   "metadata": {},
   "outputs": [],
   "source": []
  }
 ],
 "metadata": {
  "kernelspec": {
   "display_name": "Python 3 (ipykernel)",
   "language": "python",
   "name": "python3"
  },
  "language_info": {
   "codemirror_mode": {
    "name": "ipython",
    "version": 3
   },
   "file_extension": ".py",
   "mimetype": "text/x-python",
   "name": "python",
   "nbconvert_exporter": "python",
   "pygments_lexer": "ipython3",
   "version": "3.9.7"
  }
 },
 "nbformat": 4,
 "nbformat_minor": 5
}
